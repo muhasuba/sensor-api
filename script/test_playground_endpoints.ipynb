{
 "cells": [
  {
   "cell_type": "markdown",
   "metadata": {},
   "source": [
    "# Sensor API Utils Script Test and Check"
   ]
  },
  {
   "cell_type": "code",
   "execution_count": 12,
   "metadata": {},
   "outputs": [],
   "source": [
    "import requests\n",
    "import json\n",
    "import pprint\n",
    "\n",
    "from dateutil import parser\n",
    "from datetime import timedelta\n",
    "\n",
    "pp = pprint.PrettyPrinter(depth=4)\n",
    "base_url = 'http://localhost:5000/'"
   ]
  },
  {
   "cell_type": "markdown",
   "metadata": {},
   "source": [
    "## Check the API endpoint DEV / PROD live or not"
   ]
  },
  {
   "cell_type": "code",
   "execution_count": 13,
   "metadata": {},
   "outputs": [
    {
     "name": "stdout",
     "output_type": "stream",
     "text": [
      "200\n"
     ]
    }
   ],
   "source": [
    "response = requests.get(base_url)\n",
    "print(int(response.status_code))"
   ]
  },
  {
   "cell_type": "markdown",
   "metadata": {},
   "source": [
    "## Get All Measurements"
   ]
  },
  {
   "cell_type": "code",
   "execution_count": 39,
   "metadata": {},
   "outputs": [
    {
     "name": "stdout",
     "output_type": "stream",
     "text": [
      "<Response [200]>\n",
      "{'data': [{'measurement_type_id': 0,\n",
      "           'recorded_on': '2023-01-03T19:58:10.131707',\n",
      "           'sensor_id': 0,\n",
      "           'timestamp_utc': '2023-01-03T19:39:19.710000',\n",
      "           'value': 0.0}]}\n"
     ]
    }
   ],
   "source": [
    "r = requests.get(f'{base_url}/measurement/?sensor_id=0&measurement_type_id=0&limit=1000')\n",
    "print(r)\n",
    "data = r.json()\n",
    "pp.pprint(data)"
   ]
  },
  {
   "cell_type": "code",
   "execution_count": 58,
   "metadata": {},
   "outputs": [
    {
     "name": "stdout",
     "output_type": "stream",
     "text": [
      "{'data': [{'measurement_type_id': 11,\n",
      "           'recorded_on': '2023-01-03T20:48:04.131527',\n",
      "           'sensor_id': 11,\n",
      "           'timestamp_utc': '2022-12-01T01:01:01.301000',\n",
      "           'value': 1.0},\n",
      "          {'measurement_type_id': 11,\n",
      "           'recorded_on': '2023-01-03T20:46:10.075798',\n",
      "           'sensor_id': 11,\n",
      "           'timestamp_utc': '2022-12-01T01:01:01.301000',\n",
      "           'value': 1.0},\n",
      "          {'measurement_type_id': 11,\n",
      "           'recorded_on': '2023-01-03T20:47:54.308965',\n",
      "           'sensor_id': 11,\n",
      "           'timestamp_utc': '2022-12-01T01:01:01.301000',\n",
      "           'value': 1.0},\n",
      "          {'measurement_type_id': 11,\n",
      "           'recorded_on': '2023-01-03T20:47:54.379269',\n",
      "           'sensor_id': 11,\n",
      "           'timestamp_utc': '2022-12-01T01:03:01.301000',\n",
      "           'value': 1.5},\n",
      "          {'measurement_type_id': 11,\n",
      "           'recorded_on': '2023-01-03T20:48:04.181815',\n",
      "           'sensor_id': 11,\n",
      "           'timestamp_utc': '2022-12-01T01:03:01.301000',\n",
      "           'value': 1.5}]}\n"
     ]
    }
   ],
   "source": [
    "r = requests.get(f'{base_url}/measurement/?sensor_id=11&measurement_type_id=11&limit=5')\n",
    "data = r.json()\n",
    "pp.pprint(data)"
   ]
  },
  {
   "cell_type": "markdown",
   "metadata": {},
   "source": [
    "## Store measurements dummy"
   ]
  },
  {
   "cell_type": "code",
   "execution_count": 51,
   "metadata": {},
   "outputs": [
    {
     "name": "stdout",
     "output_type": "stream",
     "text": [
      "{'_content': b'{\\n    \"status\": \"success\",\\n    \"message\": \"Successfully created.\"\\n}\\n', '_content_consumed': True, '_next': None, 'status_code': 201, 'headers': {'Content-Type': 'application/json', 'Content-Length': '68', 'Server': 'Werkzeug/0.15.5 Python/3.8.15', 'Date': 'Tue, 03 Jan 2023 20:46:10 GMT'}, 'raw': <urllib3.response.HTTPResponse object at 0x7ff39843c490>, 'url': 'http://localhost:5000//measurement/', 'encoding': None, 'history': [], 'reason': 'CREATED', 'cookies': <RequestsCookieJar[]>, 'elapsed': datetime.timedelta(microseconds=160943), 'request': <PreparedRequest [POST]>, 'connection': <requests.adapters.HTTPAdapter object at 0x7ff3983eeb50>}\n"
     ]
    }
   ],
   "source": [
    "timestamp_input = '2022-12-01T01:01:01.301Z'\n",
    "value_input = 1\n",
    "headers = {'Content-type': 'application/json'}\n",
    "r = requests.post(\n",
    "        f'{base_url}/measurement/',\n",
    "        data=json.dumps(dict(\n",
    "            sensor_id=11,\n",
    "            measurement_type_id=11,\n",
    "            value=value_input,\n",
    "            timestamp_utc=timestamp_input\n",
    "        )),\n",
    "        headers=headers\n",
    "    )\n",
    "print(r.__dict__)"
   ]
  },
  {
   "cell_type": "code",
   "execution_count": 53,
   "metadata": {},
   "outputs": [],
   "source": [
    "def store_loop_measurements(number):\n",
    "    \"\"\"\n",
    "    Store loop for test, nuber in integer\n",
    "    \"\"\"\n",
    "    timestamp_input = '2022-12-01T01:01:01.301Z'\n",
    "    value_input = 1\n",
    "    headers = {'Content-type': 'application/json'}\n",
    "    for i in range(number):\n",
    "        r = requests.post(\n",
    "            f'{base_url}/measurement/',\n",
    "            headers=headers,\n",
    "            data=json.dumps(dict(\n",
    "                sensor_id=11,\n",
    "                measurement_type_id=11,\n",
    "                value=value_input,\n",
    "                timestamp_utc=timestamp_input\n",
    "            ))\n",
    "        )\n",
    "        print(r.__dict__)\n",
    "        new_timestamp_input_dt = parser.parse(\n",
    "            timestamp_input) + timedelta(minutes=2)\n",
    "        timestamp_input = new_timestamp_input_dt.isoformat()\n",
    "        value_input += 0.5"
   ]
  },
  {
   "cell_type": "code",
   "execution_count": 55,
   "metadata": {},
   "outputs": [
    {
     "name": "stdout",
     "output_type": "stream",
     "text": [
      "{'_content': b'{\\n    \"status\": \"success\",\\n    \"message\": \"Successfully created.\"\\n}\\n', '_content_consumed': True, '_next': None, 'status_code': 201, 'headers': {'Content-Type': 'application/json', 'Content-Length': '68', 'Server': 'Werkzeug/0.15.5 Python/3.8.15', 'Date': 'Tue, 03 Jan 2023 20:48:04 GMT'}, 'raw': <urllib3.response.HTTPResponse object at 0x7ff3983b9b80>, 'url': 'http://localhost:5000//measurement/', 'encoding': None, 'history': [], 'reason': 'CREATED', 'cookies': <RequestsCookieJar[]>, 'elapsed': datetime.timedelta(microseconds=46163), 'request': <PreparedRequest [POST]>, 'connection': <requests.adapters.HTTPAdapter object at 0x7ff3a81d5220>}\n",
      "{'_content': b'{\\n    \"status\": \"success\",\\n    \"message\": \"Successfully created.\"\\n}\\n', '_content_consumed': True, '_next': None, 'status_code': 201, 'headers': {'Content-Type': 'application/json', 'Content-Length': '68', 'Server': 'Werkzeug/0.15.5 Python/3.8.15', 'Date': 'Tue, 03 Jan 2023 20:48:04 GMT'}, 'raw': <urllib3.response.HTTPResponse object at 0x7ff3a81c2460>, 'url': 'http://localhost:5000//measurement/', 'encoding': None, 'history': [], 'reason': 'CREATED', 'cookies': <RequestsCookieJar[]>, 'elapsed': datetime.timedelta(microseconds=45366), 'request': <PreparedRequest [POST]>, 'connection': <requests.adapters.HTTPAdapter object at 0x7ff3384605e0>}\n",
      "{'_content': b'{\\n    \"status\": \"success\",\\n    \"message\": \"Successfully created.\"\\n}\\n', '_content_consumed': True, '_next': None, 'status_code': 201, 'headers': {'Content-Type': 'application/json', 'Content-Length': '68', 'Server': 'Werkzeug/0.15.5 Python/3.8.15', 'Date': 'Tue, 03 Jan 2023 20:48:04 GMT'}, 'raw': <urllib3.response.HTTPResponse object at 0x7ff3b85cfbb0>, 'url': 'http://localhost:5000//measurement/', 'encoding': None, 'history': [], 'reason': 'CREATED', 'cookies': <RequestsCookieJar[]>, 'elapsed': datetime.timedelta(microseconds=40124), 'request': <PreparedRequest [POST]>, 'connection': <requests.adapters.HTTPAdapter object at 0x7ff3a81c2550>}\n",
      "{'_content': b'{\\n    \"status\": \"success\",\\n    \"message\": \"Successfully created.\"\\n}\\n', '_content_consumed': True, '_next': None, 'status_code': 201, 'headers': {'Content-Type': 'application/json', 'Content-Length': '68', 'Server': 'Werkzeug/0.15.5 Python/3.8.15', 'Date': 'Tue, 03 Jan 2023 20:48:04 GMT'}, 'raw': <urllib3.response.HTTPResponse object at 0x7ff3a81df8b0>, 'url': 'http://localhost:5000//measurement/', 'encoding': None, 'history': [], 'reason': 'CREATED', 'cookies': <RequestsCookieJar[]>, 'elapsed': datetime.timedelta(microseconds=42611), 'request': <PreparedRequest [POST]>, 'connection': <requests.adapters.HTTPAdapter object at 0x7ff3b85cf9d0>}\n",
      "{'_content': b'{\\n    \"status\": \"success\",\\n    \"message\": \"Successfully created.\"\\n}\\n', '_content_consumed': True, '_next': None, 'status_code': 201, 'headers': {'Content-Type': 'application/json', 'Content-Length': '68', 'Server': 'Werkzeug/0.15.5 Python/3.8.15', 'Date': 'Tue, 03 Jan 2023 20:48:04 GMT'}, 'raw': <urllib3.response.HTTPResponse object at 0x7ff3a81dfd00>, 'url': 'http://localhost:5000//measurement/', 'encoding': None, 'history': [], 'reason': 'CREATED', 'cookies': <RequestsCookieJar[]>, 'elapsed': datetime.timedelta(microseconds=37550), 'request': <PreparedRequest [POST]>, 'connection': <requests.adapters.HTTPAdapter object at 0x7ff3a81df730>}\n",
      "{'_content': b'{\\n    \"status\": \"success\",\\n    \"message\": \"Successfully created.\"\\n}\\n', '_content_consumed': True, '_next': None, 'status_code': 201, 'headers': {'Content-Type': 'application/json', 'Content-Length': '68', 'Server': 'Werkzeug/0.15.5 Python/3.8.15', 'Date': 'Tue, 03 Jan 2023 20:48:04 GMT'}, 'raw': <urllib3.response.HTTPResponse object at 0x7ff3a81dff10>, 'url': 'http://localhost:5000//measurement/', 'encoding': None, 'history': [], 'reason': 'CREATED', 'cookies': <RequestsCookieJar[]>, 'elapsed': datetime.timedelta(microseconds=42034), 'request': <PreparedRequest [POST]>, 'connection': <requests.adapters.HTTPAdapter object at 0x7ff3a81df820>}\n",
      "{'_content': b'{\\n    \"status\": \"success\",\\n    \"message\": \"Successfully created.\"\\n}\\n', '_content_consumed': True, '_next': None, 'status_code': 201, 'headers': {'Content-Type': 'application/json', 'Content-Length': '68', 'Server': 'Werkzeug/0.15.5 Python/3.8.15', 'Date': 'Tue, 03 Jan 2023 20:48:04 GMT'}, 'raw': <urllib3.response.HTTPResponse object at 0x7ff3b85cf2e0>, 'url': 'http://localhost:5000//measurement/', 'encoding': None, 'history': [], 'reason': 'CREATED', 'cookies': <RequestsCookieJar[]>, 'elapsed': datetime.timedelta(microseconds=40960), 'request': <PreparedRequest [POST]>, 'connection': <requests.adapters.HTTPAdapter object at 0x7ff3a81df250>}\n",
      "{'_content': b'{\\n    \"status\": \"success\",\\n    \"message\": \"Successfully created.\"\\n}\\n', '_content_consumed': True, '_next': None, 'status_code': 201, 'headers': {'Content-Type': 'application/json', 'Content-Length': '68', 'Server': 'Werkzeug/0.15.5 Python/3.8.15', 'Date': 'Tue, 03 Jan 2023 20:48:04 GMT'}, 'raw': <urllib3.response.HTTPResponse object at 0x7ff3a81c2370>, 'url': 'http://localhost:5000//measurement/', 'encoding': None, 'history': [], 'reason': 'CREATED', 'cookies': <RequestsCookieJar[]>, 'elapsed': datetime.timedelta(microseconds=42048), 'request': <PreparedRequest [POST]>, 'connection': <requests.adapters.HTTPAdapter object at 0x7ff3b85cfe20>}\n",
      "{'_content': b'{\\n    \"status\": \"success\",\\n    \"message\": \"Successfully created.\"\\n}\\n', '_content_consumed': True, '_next': None, 'status_code': 201, 'headers': {'Content-Type': 'application/json', 'Content-Length': '68', 'Server': 'Werkzeug/0.15.5 Python/3.8.15', 'Date': 'Tue, 03 Jan 2023 20:48:04 GMT'}, 'raw': <urllib3.response.HTTPResponse object at 0x7ff338460be0>, 'url': 'http://localhost:5000//measurement/', 'encoding': None, 'history': [], 'reason': 'CREATED', 'cookies': <RequestsCookieJar[]>, 'elapsed': datetime.timedelta(microseconds=39889), 'request': <PreparedRequest [POST]>, 'connection': <requests.adapters.HTTPAdapter object at 0x7ff3a81c26a0>}\n",
      "{'_content': b'{\\n    \"status\": \"success\",\\n    \"message\": \"Successfully created.\"\\n}\\n', '_content_consumed': True, '_next': None, 'status_code': 201, 'headers': {'Content-Type': 'application/json', 'Content-Length': '68', 'Server': 'Werkzeug/0.15.5 Python/3.8.15', 'Date': 'Tue, 03 Jan 2023 20:48:04 GMT'}, 'raw': <urllib3.response.HTTPResponse object at 0x7ff3a81d59d0>, 'url': 'http://localhost:5000//measurement/', 'encoding': None, 'history': [], 'reason': 'CREATED', 'cookies': <RequestsCookieJar[]>, 'elapsed': datetime.timedelta(microseconds=37771), 'request': <PreparedRequest [POST]>, 'connection': <requests.adapters.HTTPAdapter object at 0x7ff338469e80>}\n",
      "{'_content': b'{\\n    \"status\": \"success\",\\n    \"message\": \"Successfully created.\"\\n}\\n', '_content_consumed': True, '_next': None, 'status_code': 201, 'headers': {'Content-Type': 'application/json', 'Content-Length': '68', 'Server': 'Werkzeug/0.15.5 Python/3.8.15', 'Date': 'Tue, 03 Jan 2023 20:48:04 GMT'}, 'raw': <urllib3.response.HTTPResponse object at 0x7ff39843ce50>, 'url': 'http://localhost:5000//measurement/', 'encoding': None, 'history': [], 'reason': 'CREATED', 'cookies': <RequestsCookieJar[]>, 'elapsed': datetime.timedelta(microseconds=39267), 'request': <PreparedRequest [POST]>, 'connection': <requests.adapters.HTTPAdapter object at 0x7ff3983ee250>}\n",
      "{'_content': b'{\\n    \"status\": \"success\",\\n    \"message\": \"Successfully created.\"\\n}\\n', '_content_consumed': True, '_next': None, 'status_code': 201, 'headers': {'Content-Type': 'application/json', 'Content-Length': '68', 'Server': 'Werkzeug/0.15.5 Python/3.8.15', 'Date': 'Tue, 03 Jan 2023 20:48:04 GMT'}, 'raw': <urllib3.response.HTTPResponse object at 0x7ff3a81d5280>, 'url': 'http://localhost:5000//measurement/', 'encoding': None, 'history': [], 'reason': 'CREATED', 'cookies': <RequestsCookieJar[]>, 'elapsed': datetime.timedelta(microseconds=39333), 'request': <PreparedRequest [POST]>, 'connection': <requests.adapters.HTTPAdapter object at 0x7ff39843c250>}\n",
      "{'_content': b'{\\n    \"status\": \"success\",\\n    \"message\": \"Successfully created.\"\\n}\\n', '_content_consumed': True, '_next': None, 'status_code': 201, 'headers': {'Content-Type': 'application/json', 'Content-Length': '68', 'Server': 'Werkzeug/0.15.5 Python/3.8.15', 'Date': 'Tue, 03 Jan 2023 20:48:04 GMT'}, 'raw': <urllib3.response.HTTPResponse object at 0x7ff3983b9ca0>, 'url': 'http://localhost:5000//measurement/', 'encoding': None, 'history': [], 'reason': 'CREATED', 'cookies': <RequestsCookieJar[]>, 'elapsed': datetime.timedelta(microseconds=36760), 'request': <PreparedRequest [POST]>, 'connection': <requests.adapters.HTTPAdapter object at 0x7ff3a81d5490>}\n",
      "{'_content': b'{\\n    \"status\": \"success\",\\n    \"message\": \"Successfully created.\"\\n}\\n', '_content_consumed': True, '_next': None, 'status_code': 201, 'headers': {'Content-Type': 'application/json', 'Content-Length': '68', 'Server': 'Werkzeug/0.15.5 Python/3.8.15', 'Date': 'Tue, 03 Jan 2023 20:48:04 GMT'}, 'raw': <urllib3.response.HTTPResponse object at 0x7ff3a81c2cd0>, 'url': 'http://localhost:5000//measurement/', 'encoding': None, 'history': [], 'reason': 'CREATED', 'cookies': <RequestsCookieJar[]>, 'elapsed': datetime.timedelta(microseconds=38215), 'request': <PreparedRequest [POST]>, 'connection': <requests.adapters.HTTPAdapter object at 0x7ff3a81c26a0>}\n",
      "{'_content': b'{\\n    \"status\": \"success\",\\n    \"message\": \"Successfully created.\"\\n}\\n', '_content_consumed': True, '_next': None, 'status_code': 201, 'headers': {'Content-Type': 'application/json', 'Content-Length': '68', 'Server': 'Werkzeug/0.15.5 Python/3.8.15', 'Date': 'Tue, 03 Jan 2023 20:48:04 GMT'}, 'raw': <urllib3.response.HTTPResponse object at 0x7ff3b85cf550>, 'url': 'http://localhost:5000//measurement/', 'encoding': None, 'history': [], 'reason': 'CREATED', 'cookies': <RequestsCookieJar[]>, 'elapsed': datetime.timedelta(microseconds=42757), 'request': <PreparedRequest [POST]>, 'connection': <requests.adapters.HTTPAdapter object at 0x7ff3983eec40>}\n"
     ]
    },
    {
     "name": "stdout",
     "output_type": "stream",
     "text": [
      "{'_content': b'{\\n    \"status\": \"success\",\\n    \"message\": \"Successfully created.\"\\n}\\n', '_content_consumed': True, '_next': None, 'status_code': 201, 'headers': {'Content-Type': 'application/json', 'Content-Length': '68', 'Server': 'Werkzeug/0.15.5 Python/3.8.15', 'Date': 'Tue, 03 Jan 2023 20:48:04 GMT'}, 'raw': <urllib3.response.HTTPResponse object at 0x7ff3a81df940>, 'url': 'http://localhost:5000//measurement/', 'encoding': None, 'history': [], 'reason': 'CREATED', 'cookies': <RequestsCookieJar[]>, 'elapsed': datetime.timedelta(microseconds=39180), 'request': <PreparedRequest [POST]>, 'connection': <requests.adapters.HTTPAdapter object at 0x7ff3b85cf1f0>}\n",
      "{'_content': b'{\\n    \"status\": \"success\",\\n    \"message\": \"Successfully created.\"\\n}\\n', '_content_consumed': True, '_next': None, 'status_code': 201, 'headers': {'Content-Type': 'application/json', 'Content-Length': '68', 'Server': 'Werkzeug/0.15.5 Python/3.8.15', 'Date': 'Tue, 03 Jan 2023 20:48:04 GMT'}, 'raw': <urllib3.response.HTTPResponse object at 0x7ff3a81dff70>, 'url': 'http://localhost:5000//measurement/', 'encoding': None, 'history': [], 'reason': 'CREATED', 'cookies': <RequestsCookieJar[]>, 'elapsed': datetime.timedelta(microseconds=41183), 'request': <PreparedRequest [POST]>, 'connection': <requests.adapters.HTTPAdapter object at 0x7ff3a81df490>}\n",
      "{'_content': b'{\\n    \"status\": \"success\",\\n    \"message\": \"Successfully created.\"\\n}\\n', '_content_consumed': True, '_next': None, 'status_code': 201, 'headers': {'Content-Type': 'application/json', 'Content-Length': '68', 'Server': 'Werkzeug/0.15.5 Python/3.8.15', 'Date': 'Tue, 03 Jan 2023 20:48:04 GMT'}, 'raw': <urllib3.response.HTTPResponse object at 0x7ff3a81dfd30>, 'url': 'http://localhost:5000//measurement/', 'encoding': None, 'history': [], 'reason': 'CREATED', 'cookies': <RequestsCookieJar[]>, 'elapsed': datetime.timedelta(microseconds=40622), 'request': <PreparedRequest [POST]>, 'connection': <requests.adapters.HTTPAdapter object at 0x7ff3a81df550>}\n",
      "{'_content': b'{\\n    \"status\": \"success\",\\n    \"message\": \"Successfully created.\"\\n}\\n', '_content_consumed': True, '_next': None, 'status_code': 201, 'headers': {'Content-Type': 'application/json', 'Content-Length': '68', 'Server': 'Werkzeug/0.15.5 Python/3.8.15', 'Date': 'Tue, 03 Jan 2023 20:48:04 GMT'}, 'raw': <urllib3.response.HTTPResponse object at 0x7ff3a81df8b0>, 'url': 'http://localhost:5000//measurement/', 'encoding': None, 'history': [], 'reason': 'CREATED', 'cookies': <RequestsCookieJar[]>, 'elapsed': datetime.timedelta(microseconds=39937), 'request': <PreparedRequest [POST]>, 'connection': <requests.adapters.HTTPAdapter object at 0x7ff3a81df700>}\n",
      "{'_content': b'{\\n    \"status\": \"success\",\\n    \"message\": \"Successfully created.\"\\n}\\n', '_content_consumed': True, '_next': None, 'status_code': 201, 'headers': {'Content-Type': 'application/json', 'Content-Length': '68', 'Server': 'Werkzeug/0.15.5 Python/3.8.15', 'Date': 'Tue, 03 Jan 2023 20:48:04 GMT'}, 'raw': <urllib3.response.HTTPResponse object at 0x7ff3a81c2100>, 'url': 'http://localhost:5000//measurement/', 'encoding': None, 'history': [], 'reason': 'CREATED', 'cookies': <RequestsCookieJar[]>, 'elapsed': datetime.timedelta(microseconds=37736), 'request': <PreparedRequest [POST]>, 'connection': <requests.adapters.HTTPAdapter object at 0x7ff3a81df370>}\n",
      "{'_content': b'{\\n    \"status\": \"success\",\\n    \"message\": \"Successfully created.\"\\n}\\n', '_content_consumed': True, '_next': None, 'status_code': 201, 'headers': {'Content-Type': 'application/json', 'Content-Length': '68', 'Server': 'Werkzeug/0.15.5 Python/3.8.15', 'Date': 'Tue, 03 Jan 2023 20:48:04 GMT'}, 'raw': <urllib3.response.HTTPResponse object at 0x7ff3b85cf790>, 'url': 'http://localhost:5000//measurement/', 'encoding': None, 'history': [], 'reason': 'CREATED', 'cookies': <RequestsCookieJar[]>, 'elapsed': datetime.timedelta(microseconds=38606), 'request': <PreparedRequest [POST]>, 'connection': <requests.adapters.HTTPAdapter object at 0x7ff3a81c2670>}\n",
      "{'_content': b'{\\n    \"status\": \"success\",\\n    \"message\": \"Successfully created.\"\\n}\\n', '_content_consumed': True, '_next': None, 'status_code': 201, 'headers': {'Content-Type': 'application/json', 'Content-Length': '68', 'Server': 'Werkzeug/0.15.5 Python/3.8.15', 'Date': 'Tue, 03 Jan 2023 20:48:05 GMT'}, 'raw': <urllib3.response.HTTPResponse object at 0x7ff3b85cf4f0>, 'url': 'http://localhost:5000//measurement/', 'encoding': None, 'history': [], 'reason': 'CREATED', 'cookies': <RequestsCookieJar[]>, 'elapsed': datetime.timedelta(microseconds=39256), 'request': <PreparedRequest [POST]>, 'connection': <requests.adapters.HTTPAdapter object at 0x7ff3b85cf940>}\n",
      "{'_content': b'{\\n    \"status\": \"success\",\\n    \"message\": \"Successfully created.\"\\n}\\n', '_content_consumed': True, '_next': None, 'status_code': 201, 'headers': {'Content-Type': 'application/json', 'Content-Length': '68', 'Server': 'Werkzeug/0.15.5 Python/3.8.15', 'Date': 'Tue, 03 Jan 2023 20:48:05 GMT'}, 'raw': <urllib3.response.HTTPResponse object at 0x7ff3a81d57f0>, 'url': 'http://localhost:5000//measurement/', 'encoding': None, 'history': [], 'reason': 'CREATED', 'cookies': <RequestsCookieJar[]>, 'elapsed': datetime.timedelta(microseconds=38332), 'request': <PreparedRequest [POST]>, 'connection': <requests.adapters.HTTPAdapter object at 0x7ff3a81d5760>}\n",
      "{'_content': b'{\\n    \"status\": \"success\",\\n    \"message\": \"Successfully created.\"\\n}\\n', '_content_consumed': True, '_next': None, 'status_code': 201, 'headers': {'Content-Type': 'application/json', 'Content-Length': '68', 'Server': 'Werkzeug/0.15.5 Python/3.8.15', 'Date': 'Tue, 03 Jan 2023 20:48:05 GMT'}, 'raw': <urllib3.response.HTTPResponse object at 0x7ff39843c670>, 'url': 'http://localhost:5000//measurement/', 'encoding': None, 'history': [], 'reason': 'CREATED', 'cookies': <RequestsCookieJar[]>, 'elapsed': datetime.timedelta(microseconds=41210), 'request': <PreparedRequest [POST]>, 'connection': <requests.adapters.HTTPAdapter object at 0x7ff3983ee430>}\n",
      "{'_content': b'{\\n    \"status\": \"success\",\\n    \"message\": \"Successfully created.\"\\n}\\n', '_content_consumed': True, '_next': None, 'status_code': 201, 'headers': {'Content-Type': 'application/json', 'Content-Length': '68', 'Server': 'Werkzeug/0.15.5 Python/3.8.15', 'Date': 'Tue, 03 Jan 2023 20:48:05 GMT'}, 'raw': <urllib3.response.HTTPResponse object at 0x7ff3a81d5be0>, 'url': 'http://localhost:5000//measurement/', 'encoding': None, 'history': [], 'reason': 'CREATED', 'cookies': <RequestsCookieJar[]>, 'elapsed': datetime.timedelta(microseconds=40936), 'request': <PreparedRequest [POST]>, 'connection': <requests.adapters.HTTPAdapter object at 0x7ff39843c250>}\n",
      "{'_content': b'{\\n    \"status\": \"success\",\\n    \"message\": \"Successfully created.\"\\n}\\n', '_content_consumed': True, '_next': None, 'status_code': 201, 'headers': {'Content-Type': 'application/json', 'Content-Length': '68', 'Server': 'Werkzeug/0.15.5 Python/3.8.15', 'Date': 'Tue, 03 Jan 2023 20:48:05 GMT'}, 'raw': <urllib3.response.HTTPResponse object at 0x7ff3b85cfd60>, 'url': 'http://localhost:5000//measurement/', 'encoding': None, 'history': [], 'reason': 'CREATED', 'cookies': <RequestsCookieJar[]>, 'elapsed': datetime.timedelta(microseconds=45114), 'request': <PreparedRequest [POST]>, 'connection': <requests.adapters.HTTPAdapter object at 0x7ff3983eec40>}\n",
      "{'_content': b'{\\n    \"status\": \"success\",\\n    \"message\": \"Successfully created.\"\\n}\\n', '_content_consumed': True, '_next': None, 'status_code': 201, 'headers': {'Content-Type': 'application/json', 'Content-Length': '68', 'Server': 'Werkzeug/0.15.5 Python/3.8.15', 'Date': 'Tue, 03 Jan 2023 20:48:05 GMT'}, 'raw': <urllib3.response.HTTPResponse object at 0x7ff338469e50>, 'url': 'http://localhost:5000//measurement/', 'encoding': None, 'history': [], 'reason': 'CREATED', 'cookies': <RequestsCookieJar[]>, 'elapsed': datetime.timedelta(microseconds=46260), 'request': <PreparedRequest [POST]>, 'connection': <requests.adapters.HTTPAdapter object at 0x7ff3b85cf5e0>}\n",
      "{'_content': b'{\\n    \"status\": \"success\",\\n    \"message\": \"Successfully created.\"\\n}\\n', '_content_consumed': True, '_next': None, 'status_code': 201, 'headers': {'Content-Type': 'application/json', 'Content-Length': '68', 'Server': 'Werkzeug/0.15.5 Python/3.8.15', 'Date': 'Tue, 03 Jan 2023 20:48:05 GMT'}, 'raw': <urllib3.response.HTTPResponse object at 0x7ff3a81c2a00>, 'url': 'http://localhost:5000//measurement/', 'encoding': None, 'history': [], 'reason': 'CREATED', 'cookies': <RequestsCookieJar[]>, 'elapsed': datetime.timedelta(microseconds=42674), 'request': <PreparedRequest [POST]>, 'connection': <requests.adapters.HTTPAdapter object at 0x7ff338460760>}\n",
      "{'_content': b'{\\n    \"status\": \"success\",\\n    \"message\": \"Successfully created.\"\\n}\\n', '_content_consumed': True, '_next': None, 'status_code': 201, 'headers': {'Content-Type': 'application/json', 'Content-Length': '68', 'Server': 'Werkzeug/0.15.5 Python/3.8.15', 'Date': 'Tue, 03 Jan 2023 20:48:05 GMT'}, 'raw': <urllib3.response.HTTPResponse object at 0x7ff3a81dfd00>, 'url': 'http://localhost:5000//measurement/', 'encoding': None, 'history': [], 'reason': 'CREATED', 'cookies': <RequestsCookieJar[]>, 'elapsed': datetime.timedelta(microseconds=47441), 'request': <PreparedRequest [POST]>, 'connection': <requests.adapters.HTTPAdapter object at 0x7ff3a81c2ac0>}\n",
      "{'_content': b'{\\n    \"status\": \"success\",\\n    \"message\": \"Successfully created.\"\\n}\\n', '_content_consumed': True, '_next': None, 'status_code': 201, 'headers': {'Content-Type': 'application/json', 'Content-Length': '68', 'Server': 'Werkzeug/0.15.5 Python/3.8.15', 'Date': 'Tue, 03 Jan 2023 20:48:05 GMT'}, 'raw': <urllib3.response.HTTPResponse object at 0x7ff39843c760>, 'url': 'http://localhost:5000//measurement/', 'encoding': None, 'history': [], 'reason': 'CREATED', 'cookies': <RequestsCookieJar[]>, 'elapsed': datetime.timedelta(microseconds=40767), 'request': <PreparedRequest [POST]>, 'connection': <requests.adapters.HTTPAdapter object at 0x7ff3a81df760>}\n"
     ]
    },
    {
     "name": "stdout",
     "output_type": "stream",
     "text": [
      "{'_content': b'{\\n    \"status\": \"success\",\\n    \"message\": \"Successfully created.\"\\n}\\n', '_content_consumed': True, '_next': None, 'status_code': 201, 'headers': {'Content-Type': 'application/json', 'Content-Length': '68', 'Server': 'Werkzeug/0.15.5 Python/3.8.15', 'Date': 'Tue, 03 Jan 2023 20:48:05 GMT'}, 'raw': <urllib3.response.HTTPResponse object at 0x7ff3a81df3d0>, 'url': 'http://localhost:5000//measurement/', 'encoding': None, 'history': [], 'reason': 'CREATED', 'cookies': <RequestsCookieJar[]>, 'elapsed': datetime.timedelta(microseconds=39611), 'request': <PreparedRequest [POST]>, 'connection': <requests.adapters.HTTPAdapter object at 0x7ff39843c940>}\n",
      "{'_content': b'{\\n    \"status\": \"success\",\\n    \"message\": \"Successfully created.\"\\n}\\n', '_content_consumed': True, '_next': None, 'status_code': 201, 'headers': {'Content-Type': 'application/json', 'Content-Length': '68', 'Server': 'Werkzeug/0.15.5 Python/3.8.15', 'Date': 'Tue, 03 Jan 2023 20:48:05 GMT'}, 'raw': <urllib3.response.HTTPResponse object at 0x7ff3a81c2ac0>, 'url': 'http://localhost:5000//measurement/', 'encoding': None, 'history': [], 'reason': 'CREATED', 'cookies': <RequestsCookieJar[]>, 'elapsed': datetime.timedelta(microseconds=41966), 'request': <PreparedRequest [POST]>, 'connection': <requests.adapters.HTTPAdapter object at 0x7ff3a81df310>}\n",
      "{'_content': b'{\\n    \"status\": \"success\",\\n    \"message\": \"Successfully created.\"\\n}\\n', '_content_consumed': True, '_next': None, 'status_code': 201, 'headers': {'Content-Type': 'application/json', 'Content-Length': '68', 'Server': 'Werkzeug/0.15.5 Python/3.8.15', 'Date': 'Tue, 03 Jan 2023 20:48:05 GMT'}, 'raw': <urllib3.response.HTTPResponse object at 0x7ff3983b9df0>, 'url': 'http://localhost:5000//measurement/', 'encoding': None, 'history': [], 'reason': 'CREATED', 'cookies': <RequestsCookieJar[]>, 'elapsed': datetime.timedelta(microseconds=37564), 'request': <PreparedRequest [POST]>, 'connection': <requests.adapters.HTTPAdapter object at 0x7ff3a81c2a90>}\n",
      "{'_content': b'{\\n    \"status\": \"success\",\\n    \"message\": \"Successfully created.\"\\n}\\n', '_content_consumed': True, '_next': None, 'status_code': 201, 'headers': {'Content-Type': 'application/json', 'Content-Length': '68', 'Server': 'Werkzeug/0.15.5 Python/3.8.15', 'Date': 'Tue, 03 Jan 2023 20:48:05 GMT'}, 'raw': <urllib3.response.HTTPResponse object at 0x7ff3b85cfb20>, 'url': 'http://localhost:5000//measurement/', 'encoding': None, 'history': [], 'reason': 'CREATED', 'cookies': <RequestsCookieJar[]>, 'elapsed': datetime.timedelta(microseconds=38520), 'request': <PreparedRequest [POST]>, 'connection': <requests.adapters.HTTPAdapter object at 0x7ff39839e700>}\n",
      "{'_content': b'{\\n    \"status\": \"success\",\\n    \"message\": \"Successfully created.\"\\n}\\n', '_content_consumed': True, '_next': None, 'status_code': 201, 'headers': {'Content-Type': 'application/json', 'Content-Length': '68', 'Server': 'Werkzeug/0.15.5 Python/3.8.15', 'Date': 'Tue, 03 Jan 2023 20:48:05 GMT'}, 'raw': <urllib3.response.HTTPResponse object at 0x7ff39843cd00>, 'url': 'http://localhost:5000//measurement/', 'encoding': None, 'history': [], 'reason': 'CREATED', 'cookies': <RequestsCookieJar[]>, 'elapsed': datetime.timedelta(microseconds=37371), 'request': <PreparedRequest [POST]>, 'connection': <requests.adapters.HTTPAdapter object at 0x7ff3b85cf550>}\n",
      "{'_content': b'{\\n    \"status\": \"success\",\\n    \"message\": \"Successfully created.\"\\n}\\n', '_content_consumed': True, '_next': None, 'status_code': 201, 'headers': {'Content-Type': 'application/json', 'Content-Length': '68', 'Server': 'Werkzeug/0.15.5 Python/3.8.15', 'Date': 'Tue, 03 Jan 2023 20:48:05 GMT'}, 'raw': <urllib3.response.HTTPResponse object at 0x7ff3a81d53d0>, 'url': 'http://localhost:5000//measurement/', 'encoding': None, 'history': [], 'reason': 'CREATED', 'cookies': <RequestsCookieJar[]>, 'elapsed': datetime.timedelta(microseconds=36452), 'request': <PreparedRequest [POST]>, 'connection': <requests.adapters.HTTPAdapter object at 0x7ff39843c580>}\n",
      "{'_content': b'{\\n    \"status\": \"success\",\\n    \"message\": \"Successfully created.\"\\n}\\n', '_content_consumed': True, '_next': None, 'status_code': 201, 'headers': {'Content-Type': 'application/json', 'Content-Length': '68', 'Server': 'Werkzeug/0.15.5 Python/3.8.15', 'Date': 'Tue, 03 Jan 2023 20:48:05 GMT'}, 'raw': <urllib3.response.HTTPResponse object at 0x7ff3a81d56d0>, 'url': 'http://localhost:5000//measurement/', 'encoding': None, 'history': [], 'reason': 'CREATED', 'cookies': <RequestsCookieJar[]>, 'elapsed': datetime.timedelta(microseconds=42123), 'request': <PreparedRequest [POST]>, 'connection': <requests.adapters.HTTPAdapter object at 0x7ff3983ee760>}\n",
      "{'_content': b'{\\n    \"status\": \"success\",\\n    \"message\": \"Successfully created.\"\\n}\\n', '_content_consumed': True, '_next': None, 'status_code': 201, 'headers': {'Content-Type': 'application/json', 'Content-Length': '68', 'Server': 'Werkzeug/0.15.5 Python/3.8.15', 'Date': 'Tue, 03 Jan 2023 20:48:05 GMT'}, 'raw': <urllib3.response.HTTPResponse object at 0x7ff39843cb50>, 'url': 'http://localhost:5000//measurement/', 'encoding': None, 'history': [], 'reason': 'CREATED', 'cookies': <RequestsCookieJar[]>, 'elapsed': datetime.timedelta(microseconds=40248), 'request': <PreparedRequest [POST]>, 'connection': <requests.adapters.HTTPAdapter object at 0x7ff3a81d51f0>}\n",
      "{'_content': b'{\\n    \"status\": \"success\",\\n    \"message\": \"Successfully created.\"\\n}\\n', '_content_consumed': True, '_next': None, 'status_code': 201, 'headers': {'Content-Type': 'application/json', 'Content-Length': '68', 'Server': 'Werkzeug/0.15.5 Python/3.8.15', 'Date': 'Tue, 03 Jan 2023 20:48:05 GMT'}, 'raw': <urllib3.response.HTTPResponse object at 0x7ff39843c8b0>, 'url': 'http://localhost:5000//measurement/', 'encoding': None, 'history': [], 'reason': 'CREATED', 'cookies': <RequestsCookieJar[]>, 'elapsed': datetime.timedelta(microseconds=41161), 'request': <PreparedRequest [POST]>, 'connection': <requests.adapters.HTTPAdapter object at 0x7ff3983ee280>}\n",
      "{'_content': b'{\\n    \"status\": \"success\",\\n    \"message\": \"Successfully created.\"\\n}\\n', '_content_consumed': True, '_next': None, 'status_code': 201, 'headers': {'Content-Type': 'application/json', 'Content-Length': '68', 'Server': 'Werkzeug/0.15.5 Python/3.8.15', 'Date': 'Tue, 03 Jan 2023 20:48:05 GMT'}, 'raw': <urllib3.response.HTTPResponse object at 0x7ff3b85cfb20>, 'url': 'http://localhost:5000//measurement/', 'encoding': None, 'history': [], 'reason': 'CREATED', 'cookies': <RequestsCookieJar[]>, 'elapsed': datetime.timedelta(microseconds=43534), 'request': <PreparedRequest [POST]>, 'connection': <requests.adapters.HTTPAdapter object at 0x7ff3b85cfc70>}\n",
      "{'_content': b'{\\n    \"status\": \"success\",\\n    \"message\": \"Successfully created.\"\\n}\\n', '_content_consumed': True, '_next': None, 'status_code': 201, 'headers': {'Content-Type': 'application/json', 'Content-Length': '68', 'Server': 'Werkzeug/0.15.5 Python/3.8.15', 'Date': 'Tue, 03 Jan 2023 20:48:05 GMT'}, 'raw': <urllib3.response.HTTPResponse object at 0x7ff3a81c2d90>, 'url': 'http://localhost:5000//measurement/', 'encoding': None, 'history': [], 'reason': 'CREATED', 'cookies': <RequestsCookieJar[]>, 'elapsed': datetime.timedelta(microseconds=41374), 'request': <PreparedRequest [POST]>, 'connection': <requests.adapters.HTTPAdapter object at 0x7ff3b85cff40>}\n",
      "{'_content': b'{\\n    \"status\": \"success\",\\n    \"message\": \"Successfully created.\"\\n}\\n', '_content_consumed': True, '_next': None, 'status_code': 201, 'headers': {'Content-Type': 'application/json', 'Content-Length': '68', 'Server': 'Werkzeug/0.15.5 Python/3.8.15', 'Date': 'Tue, 03 Jan 2023 20:48:05 GMT'}, 'raw': <urllib3.response.HTTPResponse object at 0x7ff3a81dfdc0>, 'url': 'http://localhost:5000//measurement/', 'encoding': None, 'history': [], 'reason': 'CREATED', 'cookies': <RequestsCookieJar[]>, 'elapsed': datetime.timedelta(microseconds=40341), 'request': <PreparedRequest [POST]>, 'connection': <requests.adapters.HTTPAdapter object at 0x7ff3a81c2640>}\n",
      "{'_content': b'{\\n    \"status\": \"success\",\\n    \"message\": \"Successfully created.\"\\n}\\n', '_content_consumed': True, '_next': None, 'status_code': 201, 'headers': {'Content-Type': 'application/json', 'Content-Length': '68', 'Server': 'Werkzeug/0.15.5 Python/3.8.15', 'Date': 'Tue, 03 Jan 2023 20:48:05 GMT'}, 'raw': <urllib3.response.HTTPResponse object at 0x7ff398451130>, 'url': 'http://localhost:5000//measurement/', 'encoding': None, 'history': [], 'reason': 'CREATED', 'cookies': <RequestsCookieJar[]>, 'elapsed': datetime.timedelta(microseconds=41997), 'request': <PreparedRequest [POST]>, 'connection': <requests.adapters.HTTPAdapter object at 0x7ff3a81df850>}\n",
      "{'_content': b'{\\n    \"status\": \"success\",\\n    \"message\": \"Successfully created.\"\\n}\\n', '_content_consumed': True, '_next': None, 'status_code': 201, 'headers': {'Content-Type': 'application/json', 'Content-Length': '68', 'Server': 'Werkzeug/0.15.5 Python/3.8.15', 'Date': 'Tue, 03 Jan 2023 20:48:05 GMT'}, 'raw': <urllib3.response.HTTPResponse object at 0x7ff3a81c2190>, 'url': 'http://localhost:5000//measurement/', 'encoding': None, 'history': [], 'reason': 'CREATED', 'cookies': <RequestsCookieJar[]>, 'elapsed': datetime.timedelta(microseconds=41708), 'request': <PreparedRequest [POST]>, 'connection': <requests.adapters.HTTPAdapter object at 0x7ff398451580>}\n",
      "{'_content': b'{\\n    \"status\": \"success\",\\n    \"message\": \"Successfully created.\"\\n}\\n', '_content_consumed': True, '_next': None, 'status_code': 201, 'headers': {'Content-Type': 'application/json', 'Content-Length': '68', 'Server': 'Werkzeug/0.15.5 Python/3.8.15', 'Date': 'Tue, 03 Jan 2023 20:48:06 GMT'}, 'raw': <urllib3.response.HTTPResponse object at 0x7ff3a81c2a90>, 'url': 'http://localhost:5000//measurement/', 'encoding': None, 'history': [], 'reason': 'CREATED', 'cookies': <RequestsCookieJar[]>, 'elapsed': datetime.timedelta(microseconds=41710), 'request': <PreparedRequest [POST]>, 'connection': <requests.adapters.HTTPAdapter object at 0x7ff3a81dfdf0>}\n"
     ]
    },
    {
     "name": "stdout",
     "output_type": "stream",
     "text": [
      "{'_content': b'{\\n    \"status\": \"success\",\\n    \"message\": \"Successfully created.\"\\n}\\n', '_content_consumed': True, '_next': None, 'status_code': 201, 'headers': {'Content-Type': 'application/json', 'Content-Length': '68', 'Server': 'Werkzeug/0.15.5 Python/3.8.15', 'Date': 'Tue, 03 Jan 2023 20:48:06 GMT'}, 'raw': <urllib3.response.HTTPResponse object at 0x7ff3b85cf7c0>, 'url': 'http://localhost:5000//measurement/', 'encoding': None, 'history': [], 'reason': 'CREATED', 'cookies': <RequestsCookieJar[]>, 'elapsed': datetime.timedelta(microseconds=43147), 'request': <PreparedRequest [POST]>, 'connection': <requests.adapters.HTTPAdapter object at 0x7ff338469e50>}\n",
      "{'_content': b'{\\n    \"status\": \"success\",\\n    \"message\": \"Successfully created.\"\\n}\\n', '_content_consumed': True, '_next': None, 'status_code': 201, 'headers': {'Content-Type': 'application/json', 'Content-Length': '68', 'Server': 'Werkzeug/0.15.5 Python/3.8.15', 'Date': 'Tue, 03 Jan 2023 20:48:06 GMT'}, 'raw': <urllib3.response.HTTPResponse object at 0x7ff3b85cf130>, 'url': 'http://localhost:5000//measurement/', 'encoding': None, 'history': [], 'reason': 'CREATED', 'cookies': <RequestsCookieJar[]>, 'elapsed': datetime.timedelta(microseconds=44029), 'request': <PreparedRequest [POST]>, 'connection': <requests.adapters.HTTPAdapter object at 0x7ff3b85cfbe0>}\n",
      "{'_content': b'{\\n    \"status\": \"success\",\\n    \"message\": \"Successfully created.\"\\n}\\n', '_content_consumed': True, '_next': None, 'status_code': 201, 'headers': {'Content-Type': 'application/json', 'Content-Length': '68', 'Server': 'Werkzeug/0.15.5 Python/3.8.15', 'Date': 'Tue, 03 Jan 2023 20:48:06 GMT'}, 'raw': <urllib3.response.HTTPResponse object at 0x7ff3983ee280>, 'url': 'http://localhost:5000//measurement/', 'encoding': None, 'history': [], 'reason': 'CREATED', 'cookies': <RequestsCookieJar[]>, 'elapsed': datetime.timedelta(microseconds=43101), 'request': <PreparedRequest [POST]>, 'connection': <requests.adapters.HTTPAdapter object at 0x7ff39843c3d0>}\n",
      "{'_content': b'{\\n    \"status\": \"success\",\\n    \"message\": \"Successfully created.\"\\n}\\n', '_content_consumed': True, '_next': None, 'status_code': 201, 'headers': {'Content-Type': 'application/json', 'Content-Length': '68', 'Server': 'Werkzeug/0.15.5 Python/3.8.15', 'Date': 'Tue, 03 Jan 2023 20:48:06 GMT'}, 'raw': <urllib3.response.HTTPResponse object at 0x7ff3a81d5dc0>, 'url': 'http://localhost:5000//measurement/', 'encoding': None, 'history': [], 'reason': 'CREATED', 'cookies': <RequestsCookieJar[]>, 'elapsed': datetime.timedelta(microseconds=40589), 'request': <PreparedRequest [POST]>, 'connection': <requests.adapters.HTTPAdapter object at 0x7ff3983ee2e0>}\n",
      "{'_content': b'{\\n    \"status\": \"success\",\\n    \"message\": \"Successfully created.\"\\n}\\n', '_content_consumed': True, '_next': None, 'status_code': 201, 'headers': {'Content-Type': 'application/json', 'Content-Length': '68', 'Server': 'Werkzeug/0.15.5 Python/3.8.15', 'Date': 'Tue, 03 Jan 2023 20:48:06 GMT'}, 'raw': <urllib3.response.HTTPResponse object at 0x7ff3a81d5760>, 'url': 'http://localhost:5000//measurement/', 'encoding': None, 'history': [], 'reason': 'CREATED', 'cookies': <RequestsCookieJar[]>, 'elapsed': datetime.timedelta(microseconds=42115), 'request': <PreparedRequest [POST]>, 'connection': <requests.adapters.HTTPAdapter object at 0x7ff398451be0>}\n",
      "{'_content': b'{\\n    \"status\": \"success\",\\n    \"message\": \"Successfully created.\"\\n}\\n', '_content_consumed': True, '_next': None, 'status_code': 201, 'headers': {'Content-Type': 'application/json', 'Content-Length': '68', 'Server': 'Werkzeug/0.15.5 Python/3.8.15', 'Date': 'Tue, 03 Jan 2023 20:48:06 GMT'}, 'raw': <urllib3.response.HTTPResponse object at 0x7ff3b85cfe20>, 'url': 'http://localhost:5000//measurement/', 'encoding': None, 'history': [], 'reason': 'CREATED', 'cookies': <RequestsCookieJar[]>, 'elapsed': datetime.timedelta(microseconds=40736), 'request': <PreparedRequest [POST]>, 'connection': <requests.adapters.HTTPAdapter object at 0x7ff3a81d5430>}\n",
      "{'_content': b'{\\n    \"status\": \"success\",\\n    \"message\": \"Successfully created.\"\\n}\\n', '_content_consumed': True, '_next': None, 'status_code': 201, 'headers': {'Content-Type': 'application/json', 'Content-Length': '68', 'Server': 'Werkzeug/0.15.5 Python/3.8.15', 'Date': 'Tue, 03 Jan 2023 20:48:06 GMT'}, 'raw': <urllib3.response.HTTPResponse object at 0x7ff3b85cf6a0>, 'url': 'http://localhost:5000//measurement/', 'encoding': None, 'history': [], 'reason': 'CREATED', 'cookies': <RequestsCookieJar[]>, 'elapsed': datetime.timedelta(microseconds=40200), 'request': <PreparedRequest [POST]>, 'connection': <requests.adapters.HTTPAdapter object at 0x7ff3983ee3d0>}\n",
      "{'_content': b'{\\n    \"status\": \"success\",\\n    \"message\": \"Successfully created.\"\\n}\\n', '_content_consumed': True, '_next': None, 'status_code': 201, 'headers': {'Content-Type': 'application/json', 'Content-Length': '68', 'Server': 'Werkzeug/0.15.5 Python/3.8.15', 'Date': 'Tue, 03 Jan 2023 20:48:06 GMT'}, 'raw': <urllib3.response.HTTPResponse object at 0x7ff338469e50>, 'url': 'http://localhost:5000//measurement/', 'encoding': None, 'history': [], 'reason': 'CREATED', 'cookies': <RequestsCookieJar[]>, 'elapsed': datetime.timedelta(microseconds=43414), 'request': <PreparedRequest [POST]>, 'connection': <requests.adapters.HTTPAdapter object at 0x7ff3b85cfb50>}\n",
      "{'_content': b'{\\n    \"status\": \"success\",\\n    \"message\": \"Successfully created.\"\\n}\\n', '_content_consumed': True, '_next': None, 'status_code': 201, 'headers': {'Content-Type': 'application/json', 'Content-Length': '68', 'Server': 'Werkzeug/0.15.5 Python/3.8.15', 'Date': 'Tue, 03 Jan 2023 20:48:06 GMT'}, 'raw': <urllib3.response.HTTPResponse object at 0x7ff3a81c29a0>, 'url': 'http://localhost:5000//measurement/', 'encoding': None, 'history': [], 'reason': 'CREATED', 'cookies': <RequestsCookieJar[]>, 'elapsed': datetime.timedelta(microseconds=49276), 'request': <PreparedRequest [POST]>, 'connection': <requests.adapters.HTTPAdapter object at 0x7ff3a81c2310>}\n",
      "{'_content': b'{\\n    \"status\": \"success\",\\n    \"message\": \"Successfully created.\"\\n}\\n', '_content_consumed': True, '_next': None, 'status_code': 201, 'headers': {'Content-Type': 'application/json', 'Content-Length': '68', 'Server': 'Werkzeug/0.15.5 Python/3.8.15', 'Date': 'Tue, 03 Jan 2023 20:48:06 GMT'}, 'raw': <urllib3.response.HTTPResponse object at 0x7ff39843c190>, 'url': 'http://localhost:5000//measurement/', 'encoding': None, 'history': [], 'reason': 'CREATED', 'cookies': <RequestsCookieJar[]>, 'elapsed': datetime.timedelta(microseconds=49260), 'request': <PreparedRequest [POST]>, 'connection': <requests.adapters.HTTPAdapter object at 0x7ff338447d00>}\n",
      "{'_content': b'{\\n    \"status\": \"success\",\\n    \"message\": \"Successfully created.\"\\n}\\n', '_content_consumed': True, '_next': None, 'status_code': 201, 'headers': {'Content-Type': 'application/json', 'Content-Length': '68', 'Server': 'Werkzeug/0.15.5 Python/3.8.15', 'Date': 'Tue, 03 Jan 2023 20:48:06 GMT'}, 'raw': <urllib3.response.HTTPResponse object at 0x7ff3a81dffd0>, 'url': 'http://localhost:5000//measurement/', 'encoding': None, 'history': [], 'reason': 'CREATED', 'cookies': <RequestsCookieJar[]>, 'elapsed': datetime.timedelta(microseconds=43034), 'request': <PreparedRequest [POST]>, 'connection': <requests.adapters.HTTPAdapter object at 0x7ff39843c610>}\n",
      "{'_content': b'{\\n    \"status\": \"success\",\\n    \"message\": \"Successfully created.\"\\n}\\n', '_content_consumed': True, '_next': None, 'status_code': 201, 'headers': {'Content-Type': 'application/json', 'Content-Length': '68', 'Server': 'Werkzeug/0.15.5 Python/3.8.15', 'Date': 'Tue, 03 Jan 2023 20:48:06 GMT'}, 'raw': <urllib3.response.HTTPResponse object at 0x7ff39843c2b0>, 'url': 'http://localhost:5000//measurement/', 'encoding': None, 'history': [], 'reason': 'CREATED', 'cookies': <RequestsCookieJar[]>, 'elapsed': datetime.timedelta(microseconds=36886), 'request': <PreparedRequest [POST]>, 'connection': <requests.adapters.HTTPAdapter object at 0x7ff3a81df190>}\n",
      "{'_content': b'{\\n    \"status\": \"success\",\\n    \"message\": \"Successfully created.\"\\n}\\n', '_content_consumed': True, '_next': None, 'status_code': 201, 'headers': {'Content-Type': 'application/json', 'Content-Length': '68', 'Server': 'Werkzeug/0.15.5 Python/3.8.15', 'Date': 'Tue, 03 Jan 2023 20:48:06 GMT'}, 'raw': <urllib3.response.HTTPResponse object at 0x7ff3a81c2d90>, 'url': 'http://localhost:5000//measurement/', 'encoding': None, 'history': [], 'reason': 'CREATED', 'cookies': <RequestsCookieJar[]>, 'elapsed': datetime.timedelta(microseconds=35205), 'request': <PreparedRequest [POST]>, 'connection': <requests.adapters.HTTPAdapter object at 0x7ff39843c430>}\n",
      "{'_content': b'{\\n    \"status\": \"success\",\\n    \"message\": \"Successfully created.\"\\n}\\n', '_content_consumed': True, '_next': None, 'status_code': 201, 'headers': {'Content-Type': 'application/json', 'Content-Length': '68', 'Server': 'Werkzeug/0.15.5 Python/3.8.15', 'Date': 'Tue, 03 Jan 2023 20:48:06 GMT'}, 'raw': <urllib3.response.HTTPResponse object at 0x7ff3983b9be0>, 'url': 'http://localhost:5000//measurement/', 'encoding': None, 'history': [], 'reason': 'CREATED', 'cookies': <RequestsCookieJar[]>, 'elapsed': datetime.timedelta(microseconds=35651), 'request': <PreparedRequest [POST]>, 'connection': <requests.adapters.HTTPAdapter object at 0x7ff3a81c29a0>}\n",
      "{'_content': b'{\\n    \"status\": \"success\",\\n    \"message\": \"Successfully created.\"\\n}\\n', '_content_consumed': True, '_next': None, 'status_code': 201, 'headers': {'Content-Type': 'application/json', 'Content-Length': '68', 'Server': 'Werkzeug/0.15.5 Python/3.8.15', 'Date': 'Tue, 03 Jan 2023 20:48:06 GMT'}, 'raw': <urllib3.response.HTTPResponse object at 0x7ff3b85cf6a0>, 'url': 'http://localhost:5000//measurement/', 'encoding': None, 'history': [], 'reason': 'CREATED', 'cookies': <RequestsCookieJar[]>, 'elapsed': datetime.timedelta(microseconds=35093), 'request': <PreparedRequest [POST]>, 'connection': <requests.adapters.HTTPAdapter object at 0x7ff338460be0>}\n",
      "{'_content': b'{\\n    \"status\": \"success\",\\n    \"message\": \"Successfully created.\"\\n}\\n', '_content_consumed': True, '_next': None, 'status_code': 201, 'headers': {'Content-Type': 'application/json', 'Content-Length': '68', 'Server': 'Werkzeug/0.15.5 Python/3.8.15', 'Date': 'Tue, 03 Jan 2023 20:48:06 GMT'}, 'raw': <urllib3.response.HTTPResponse object at 0x7ff3983ee8e0>, 'url': 'http://localhost:5000//measurement/', 'encoding': None, 'history': [], 'reason': 'CREATED', 'cookies': <RequestsCookieJar[]>, 'elapsed': datetime.timedelta(microseconds=35896), 'request': <PreparedRequest [POST]>, 'connection': <requests.adapters.HTTPAdapter object at 0x7ff3b85cf6d0>}\n"
     ]
    },
    {
     "name": "stdout",
     "output_type": "stream",
     "text": [
      "{'_content': b'{\\n    \"status\": \"success\",\\n    \"message\": \"Successfully created.\"\\n}\\n', '_content_consumed': True, '_next': None, 'status_code': 201, 'headers': {'Content-Type': 'application/json', 'Content-Length': '68', 'Server': 'Werkzeug/0.15.5 Python/3.8.15', 'Date': 'Tue, 03 Jan 2023 20:48:06 GMT'}, 'raw': <urllib3.response.HTTPResponse object at 0x7ff3a81dfa90>, 'url': 'http://localhost:5000//measurement/', 'encoding': None, 'history': [], 'reason': 'CREATED', 'cookies': <RequestsCookieJar[]>, 'elapsed': datetime.timedelta(microseconds=35710), 'request': <PreparedRequest [POST]>, 'connection': <requests.adapters.HTTPAdapter object at 0x7ff3a81d5610>}\n",
      "{'_content': b'{\\n    \"status\": \"success\",\\n    \"message\": \"Successfully created.\"\\n}\\n', '_content_consumed': True, '_next': None, 'status_code': 201, 'headers': {'Content-Type': 'application/json', 'Content-Length': '68', 'Server': 'Werkzeug/0.15.5 Python/3.8.15', 'Date': 'Tue, 03 Jan 2023 20:48:06 GMT'}, 'raw': <urllib3.response.HTTPResponse object at 0x7ff3a81d5a60>, 'url': 'http://localhost:5000//measurement/', 'encoding': None, 'history': [], 'reason': 'CREATED', 'cookies': <RequestsCookieJar[]>, 'elapsed': datetime.timedelta(microseconds=38294), 'request': <PreparedRequest [POST]>, 'connection': <requests.adapters.HTTPAdapter object at 0x7ff3a81dfbe0>}\n",
      "{'_content': b'{\\n    \"status\": \"success\",\\n    \"message\": \"Successfully created.\"\\n}\\n', '_content_consumed': True, '_next': None, 'status_code': 201, 'headers': {'Content-Type': 'application/json', 'Content-Length': '68', 'Server': 'Werkzeug/0.15.5 Python/3.8.15', 'Date': 'Tue, 03 Jan 2023 20:48:06 GMT'}, 'raw': <urllib3.response.HTTPResponse object at 0x7ff3b85cf070>, 'url': 'http://localhost:5000//measurement/', 'encoding': None, 'history': [], 'reason': 'CREATED', 'cookies': <RequestsCookieJar[]>, 'elapsed': datetime.timedelta(microseconds=41420), 'request': <PreparedRequest [POST]>, 'connection': <requests.adapters.HTTPAdapter object at 0x7ff3a81d5880>}\n",
      "{'_content': b'{\\n    \"status\": \"success\",\\n    \"message\": \"Successfully created.\"\\n}\\n', '_content_consumed': True, '_next': None, 'status_code': 201, 'headers': {'Content-Type': 'application/json', 'Content-Length': '68', 'Server': 'Werkzeug/0.15.5 Python/3.8.15', 'Date': 'Tue, 03 Jan 2023 20:48:06 GMT'}, 'raw': <urllib3.response.HTTPResponse object at 0x7ff3b85cffd0>, 'url': 'http://localhost:5000//measurement/', 'encoding': None, 'history': [], 'reason': 'CREATED', 'cookies': <RequestsCookieJar[]>, 'elapsed': datetime.timedelta(microseconds=38672), 'request': <PreparedRequest [POST]>, 'connection': <requests.adapters.HTTPAdapter object at 0x7ff3a81d5190>}\n",
      "{'_content': b'{\\n    \"status\": \"success\",\\n    \"message\": \"Successfully created.\"\\n}\\n', '_content_consumed': True, '_next': None, 'status_code': 201, 'headers': {'Content-Type': 'application/json', 'Content-Length': '68', 'Server': 'Werkzeug/0.15.5 Python/3.8.15', 'Date': 'Tue, 03 Jan 2023 20:48:06 GMT'}, 'raw': <urllib3.response.HTTPResponse object at 0x7ff3a81c2520>, 'url': 'http://localhost:5000//measurement/', 'encoding': None, 'history': [], 'reason': 'CREATED', 'cookies': <RequestsCookieJar[]>, 'elapsed': datetime.timedelta(microseconds=39482), 'request': <PreparedRequest [POST]>, 'connection': <requests.adapters.HTTPAdapter object at 0x7ff3b85cf250>}\n",
      "{'_content': b'{\\n    \"status\": \"success\",\\n    \"message\": \"Successfully created.\"\\n}\\n', '_content_consumed': True, '_next': None, 'status_code': 201, 'headers': {'Content-Type': 'application/json', 'Content-Length': '68', 'Server': 'Werkzeug/0.15.5 Python/3.8.15', 'Date': 'Tue, 03 Jan 2023 20:48:06 GMT'}, 'raw': <urllib3.response.HTTPResponse object at 0x7ff338469f70>, 'url': 'http://localhost:5000//measurement/', 'encoding': None, 'history': [], 'reason': 'CREATED', 'cookies': <RequestsCookieJar[]>, 'elapsed': datetime.timedelta(microseconds=38876), 'request': <PreparedRequest [POST]>, 'connection': <requests.adapters.HTTPAdapter object at 0x7ff3a81c2040>}\n",
      "{'_content': b'{\\n    \"status\": \"success\",\\n    \"message\": \"Successfully created.\"\\n}\\n', '_content_consumed': True, '_next': None, 'status_code': 201, 'headers': {'Content-Type': 'application/json', 'Content-Length': '68', 'Server': 'Werkzeug/0.15.5 Python/3.8.15', 'Date': 'Tue, 03 Jan 2023 20:48:07 GMT'}, 'raw': <urllib3.response.HTTPResponse object at 0x7ff3a81dfeb0>, 'url': 'http://localhost:5000//measurement/', 'encoding': None, 'history': [], 'reason': 'CREATED', 'cookies': <RequestsCookieJar[]>, 'elapsed': datetime.timedelta(microseconds=40128), 'request': <PreparedRequest [POST]>, 'connection': <requests.adapters.HTTPAdapter object at 0x7ff3a81dfbe0>}\n",
      "{'_content': b'{\\n    \"status\": \"success\",\\n    \"message\": \"Successfully created.\"\\n}\\n', '_content_consumed': True, '_next': None, 'status_code': 201, 'headers': {'Content-Type': 'application/json', 'Content-Length': '68', 'Server': 'Werkzeug/0.15.5 Python/3.8.15', 'Date': 'Tue, 03 Jan 2023 20:48:07 GMT'}, 'raw': <urllib3.response.HTTPResponse object at 0x7ff39843c0a0>, 'url': 'http://localhost:5000//measurement/', 'encoding': None, 'history': [], 'reason': 'CREATED', 'cookies': <RequestsCookieJar[]>, 'elapsed': datetime.timedelta(microseconds=40805), 'request': <PreparedRequest [POST]>, 'connection': <requests.adapters.HTTPAdapter object at 0x7ff3a81df190>}\n",
      "{'_content': b'{\\n    \"status\": \"success\",\\n    \"message\": \"Successfully created.\"\\n}\\n', '_content_consumed': True, '_next': None, 'status_code': 201, 'headers': {'Content-Type': 'application/json', 'Content-Length': '68', 'Server': 'Werkzeug/0.15.5 Python/3.8.15', 'Date': 'Tue, 03 Jan 2023 20:48:07 GMT'}, 'raw': <urllib3.response.HTTPResponse object at 0x7ff3a81dfe20>, 'url': 'http://localhost:5000//measurement/', 'encoding': None, 'history': [], 'reason': 'CREATED', 'cookies': <RequestsCookieJar[]>, 'elapsed': datetime.timedelta(microseconds=41821), 'request': <PreparedRequest [POST]>, 'connection': <requests.adapters.HTTPAdapter object at 0x7ff39843c910>}\n",
      "{'_content': b'{\\n    \"status\": \"success\",\\n    \"message\": \"Successfully created.\"\\n}\\n', '_content_consumed': True, '_next': None, 'status_code': 201, 'headers': {'Content-Type': 'application/json', 'Content-Length': '68', 'Server': 'Werkzeug/0.15.5 Python/3.8.15', 'Date': 'Tue, 03 Jan 2023 20:48:07 GMT'}, 'raw': <urllib3.response.HTTPResponse object at 0x7ff338447c40>, 'url': 'http://localhost:5000//measurement/', 'encoding': None, 'history': [], 'reason': 'CREATED', 'cookies': <RequestsCookieJar[]>, 'elapsed': datetime.timedelta(microseconds=40566), 'request': <PreparedRequest [POST]>, 'connection': <requests.adapters.HTTPAdapter object at 0x7ff3a81dfd60>}\n",
      "{'_content': b'{\\n    \"status\": \"success\",\\n    \"message\": \"Successfully created.\"\\n}\\n', '_content_consumed': True, '_next': None, 'status_code': 201, 'headers': {'Content-Type': 'application/json', 'Content-Length': '68', 'Server': 'Werkzeug/0.15.5 Python/3.8.15', 'Date': 'Tue, 03 Jan 2023 20:48:07 GMT'}, 'raw': <urllib3.response.HTTPResponse object at 0x7ff3a81c29a0>, 'url': 'http://localhost:5000//measurement/', 'encoding': None, 'history': [], 'reason': 'CREATED', 'cookies': <RequestsCookieJar[]>, 'elapsed': datetime.timedelta(microseconds=40634), 'request': <PreparedRequest [POST]>, 'connection': <requests.adapters.HTTPAdapter object at 0x7ff3a81c2040>}\n",
      "{'_content': b'{\\n    \"status\": \"success\",\\n    \"message\": \"Successfully created.\"\\n}\\n', '_content_consumed': True, '_next': None, 'status_code': 201, 'headers': {'Content-Type': 'application/json', 'Content-Length': '68', 'Server': 'Werkzeug/0.15.5 Python/3.8.15', 'Date': 'Tue, 03 Jan 2023 20:48:07 GMT'}, 'raw': <urllib3.response.HTTPResponse object at 0x7ff3b85cf730>, 'url': 'http://localhost:5000//measurement/', 'encoding': None, 'history': [], 'reason': 'CREATED', 'cookies': <RequestsCookieJar[]>, 'elapsed': datetime.timedelta(microseconds=38548), 'request': <PreparedRequest [POST]>, 'connection': <requests.adapters.HTTPAdapter object at 0x7ff338460670>}\n",
      "{'_content': b'{\\n    \"status\": \"success\",\\n    \"message\": \"Successfully created.\"\\n}\\n', '_content_consumed': True, '_next': None, 'status_code': 201, 'headers': {'Content-Type': 'application/json', 'Content-Length': '68', 'Server': 'Werkzeug/0.15.5 Python/3.8.15', 'Date': 'Tue, 03 Jan 2023 20:48:07 GMT'}, 'raw': <urllib3.response.HTTPResponse object at 0x7ff3983ee430>, 'url': 'http://localhost:5000//measurement/', 'encoding': None, 'history': [], 'reason': 'CREATED', 'cookies': <RequestsCookieJar[]>, 'elapsed': datetime.timedelta(microseconds=40277), 'request': <PreparedRequest [POST]>, 'connection': <requests.adapters.HTTPAdapter object at 0x7ff3b85cf790>}\n",
      "{'_content': b'{\\n    \"status\": \"success\",\\n    \"message\": \"Successfully created.\"\\n}\\n', '_content_consumed': True, '_next': None, 'status_code': 201, 'headers': {'Content-Type': 'application/json', 'Content-Length': '68', 'Server': 'Werkzeug/0.15.5 Python/3.8.15', 'Date': 'Tue, 03 Jan 2023 20:48:07 GMT'}, 'raw': <urllib3.response.HTTPResponse object at 0x7ff3a81d5dc0>, 'url': 'http://localhost:5000//measurement/', 'encoding': None, 'history': [], 'reason': 'CREATED', 'cookies': <RequestsCookieJar[]>, 'elapsed': datetime.timedelta(microseconds=42904), 'request': <PreparedRequest [POST]>, 'connection': <requests.adapters.HTTPAdapter object at 0x7ff3a81d57f0>}\n",
      "{'_content': b'{\\n    \"status\": \"success\",\\n    \"message\": \"Successfully created.\"\\n}\\n', '_content_consumed': True, '_next': None, 'status_code': 201, 'headers': {'Content-Type': 'application/json', 'Content-Length': '68', 'Server': 'Werkzeug/0.15.5 Python/3.8.15', 'Date': 'Tue, 03 Jan 2023 20:48:07 GMT'}, 'raw': <urllib3.response.HTTPResponse object at 0x7ff3a81d5970>, 'url': 'http://localhost:5000//measurement/', 'encoding': None, 'history': [], 'reason': 'CREATED', 'cookies': <RequestsCookieJar[]>, 'elapsed': datetime.timedelta(microseconds=41190), 'request': <PreparedRequest [POST]>, 'connection': <requests.adapters.HTTPAdapter object at 0x7ff39843c130>}\n"
     ]
    },
    {
     "name": "stdout",
     "output_type": "stream",
     "text": [
      "{'_content': b'{\\n    \"status\": \"success\",\\n    \"message\": \"Successfully created.\"\\n}\\n', '_content_consumed': True, '_next': None, 'status_code': 201, 'headers': {'Content-Type': 'application/json', 'Content-Length': '68', 'Server': 'Werkzeug/0.15.5 Python/3.8.15', 'Date': 'Tue, 03 Jan 2023 20:48:07 GMT'}, 'raw': <urllib3.response.HTTPResponse object at 0x7ff3b85cf760>, 'url': 'http://localhost:5000//measurement/', 'encoding': None, 'history': [], 'reason': 'CREATED', 'cookies': <RequestsCookieJar[]>, 'elapsed': datetime.timedelta(microseconds=62535), 'request': <PreparedRequest [POST]>, 'connection': <requests.adapters.HTTPAdapter object at 0x7ff3a81d56d0>}\n",
      "{'_content': b'{\\n    \"status\": \"success\",\\n    \"message\": \"Successfully created.\"\\n}\\n', '_content_consumed': True, '_next': None, 'status_code': 201, 'headers': {'Content-Type': 'application/json', 'Content-Length': '68', 'Server': 'Werkzeug/0.15.5 Python/3.8.15', 'Date': 'Tue, 03 Jan 2023 20:48:07 GMT'}, 'raw': <urllib3.response.HTTPResponse object at 0x7ff3b85cfdf0>, 'url': 'http://localhost:5000//measurement/', 'encoding': None, 'history': [], 'reason': 'CREATED', 'cookies': <RequestsCookieJar[]>, 'elapsed': datetime.timedelta(microseconds=43044), 'request': <PreparedRequest [POST]>, 'connection': <requests.adapters.HTTPAdapter object at 0x7ff3a81d5fd0>}\n",
      "{'_content': b'{\\n    \"status\": \"success\",\\n    \"message\": \"Successfully created.\"\\n}\\n', '_content_consumed': True, '_next': None, 'status_code': 201, 'headers': {'Content-Type': 'application/json', 'Content-Length': '68', 'Server': 'Werkzeug/0.15.5 Python/3.8.15', 'Date': 'Tue, 03 Jan 2023 20:48:07 GMT'}, 'raw': <urllib3.response.HTTPResponse object at 0x7ff338447c40>, 'url': 'http://localhost:5000//measurement/', 'encoding': None, 'history': [], 'reason': 'CREATED', 'cookies': <RequestsCookieJar[]>, 'elapsed': datetime.timedelta(microseconds=40709), 'request': <PreparedRequest [POST]>, 'connection': <requests.adapters.HTTPAdapter object at 0x7ff3b85cf970>}\n",
      "{'_content': b'{\\n    \"status\": \"success\",\\n    \"message\": \"Successfully created.\"\\n}\\n', '_content_consumed': True, '_next': None, 'status_code': 201, 'headers': {'Content-Type': 'application/json', 'Content-Length': '68', 'Server': 'Werkzeug/0.15.5 Python/3.8.15', 'Date': 'Tue, 03 Jan 2023 20:48:07 GMT'}, 'raw': <urllib3.response.HTTPResponse object at 0x7ff3a81c2730>, 'url': 'http://localhost:5000//measurement/', 'encoding': None, 'history': [], 'reason': 'CREATED', 'cookies': <RequestsCookieJar[]>, 'elapsed': datetime.timedelta(microseconds=43438), 'request': <PreparedRequest [POST]>, 'connection': <requests.adapters.HTTPAdapter object at 0x7ff3a81c2c10>}\n",
      "{'_content': b'{\\n    \"status\": \"success\",\\n    \"message\": \"Successfully created.\"\\n}\\n', '_content_consumed': True, '_next': None, 'status_code': 201, 'headers': {'Content-Type': 'application/json', 'Content-Length': '68', 'Server': 'Werkzeug/0.15.5 Python/3.8.15', 'Date': 'Tue, 03 Jan 2023 20:48:07 GMT'}, 'raw': <urllib3.response.HTTPResponse object at 0x7ff39843c610>, 'url': 'http://localhost:5000//measurement/', 'encoding': None, 'history': [], 'reason': 'CREATED', 'cookies': <RequestsCookieJar[]>, 'elapsed': datetime.timedelta(microseconds=41489), 'request': <PreparedRequest [POST]>, 'connection': <requests.adapters.HTTPAdapter object at 0x7ff338469f70>}\n",
      "{'_content': b'{\\n    \"status\": \"success\",\\n    \"message\": \"Successfully created.\"\\n}\\n', '_content_consumed': True, '_next': None, 'status_code': 201, 'headers': {'Content-Type': 'application/json', 'Content-Length': '68', 'Server': 'Werkzeug/0.15.5 Python/3.8.15', 'Date': 'Tue, 03 Jan 2023 20:48:07 GMT'}, 'raw': <urllib3.response.HTTPResponse object at 0x7ff3a81df910>, 'url': 'http://localhost:5000//measurement/', 'encoding': None, 'history': [], 'reason': 'CREATED', 'cookies': <RequestsCookieJar[]>, 'elapsed': datetime.timedelta(microseconds=41180), 'request': <PreparedRequest [POST]>, 'connection': <requests.adapters.HTTPAdapter object at 0x7ff39843c760>}\n",
      "{'_content': b'{\\n    \"status\": \"success\",\\n    \"message\": \"Successfully created.\"\\n}\\n', '_content_consumed': True, '_next': None, 'status_code': 201, 'headers': {'Content-Type': 'application/json', 'Content-Length': '68', 'Server': 'Werkzeug/0.15.5 Python/3.8.15', 'Date': 'Tue, 03 Jan 2023 20:48:07 GMT'}, 'raw': <urllib3.response.HTTPResponse object at 0x7ff39843c2b0>, 'url': 'http://localhost:5000//measurement/', 'encoding': None, 'history': [], 'reason': 'CREATED', 'cookies': <RequestsCookieJar[]>, 'elapsed': datetime.timedelta(microseconds=39149), 'request': <PreparedRequest [POST]>, 'connection': <requests.adapters.HTTPAdapter object at 0x7ff3a81df250>}\n",
      "{'_content': b'{\\n    \"status\": \"success\",\\n    \"message\": \"Successfully created.\"\\n}\\n', '_content_consumed': True, '_next': None, 'status_code': 201, 'headers': {'Content-Type': 'application/json', 'Content-Length': '68', 'Server': 'Werkzeug/0.15.5 Python/3.8.15', 'Date': 'Tue, 03 Jan 2023 20:48:07 GMT'}, 'raw': <urllib3.response.HTTPResponse object at 0x7ff3a81c2df0>, 'url': 'http://localhost:5000//measurement/', 'encoding': None, 'history': [], 'reason': 'CREATED', 'cookies': <RequestsCookieJar[]>, 'elapsed': datetime.timedelta(microseconds=39622), 'request': <PreparedRequest [POST]>, 'connection': <requests.adapters.HTTPAdapter object at 0x7ff39843c250>}\n",
      "{'_content': b'{\\n    \"status\": \"success\",\\n    \"message\": \"Successfully created.\"\\n}\\n', '_content_consumed': True, '_next': None, 'status_code': 201, 'headers': {'Content-Type': 'application/json', 'Content-Length': '68', 'Server': 'Werkzeug/0.15.5 Python/3.8.15', 'Date': 'Tue, 03 Jan 2023 20:48:07 GMT'}, 'raw': <urllib3.response.HTTPResponse object at 0x7ff338460670>, 'url': 'http://localhost:5000//measurement/', 'encoding': None, 'history': [], 'reason': 'CREATED', 'cookies': <RequestsCookieJar[]>, 'elapsed': datetime.timedelta(microseconds=40059), 'request': <PreparedRequest [POST]>, 'connection': <requests.adapters.HTTPAdapter object at 0x7ff3a81c24c0>}\n",
      "{'_content': b'{\\n    \"status\": \"success\",\\n    \"message\": \"Successfully created.\"\\n}\\n', '_content_consumed': True, '_next': None, 'status_code': 201, 'headers': {'Content-Type': 'application/json', 'Content-Length': '68', 'Server': 'Werkzeug/0.15.5 Python/3.8.15', 'Date': 'Tue, 03 Jan 2023 20:48:07 GMT'}, 'raw': <urllib3.response.HTTPResponse object at 0x7ff3b85cf4f0>, 'url': 'http://localhost:5000//measurement/', 'encoding': None, 'history': [], 'reason': 'CREATED', 'cookies': <RequestsCookieJar[]>, 'elapsed': datetime.timedelta(microseconds=38897), 'request': <PreparedRequest [POST]>, 'connection': <requests.adapters.HTTPAdapter object at 0x7ff3983b9700>}\n",
      "{'_content': b'{\\n    \"status\": \"success\",\\n    \"message\": \"Successfully created.\"\\n}\\n', '_content_consumed': True, '_next': None, 'status_code': 201, 'headers': {'Content-Type': 'application/json', 'Content-Length': '68', 'Server': 'Werkzeug/0.15.5 Python/3.8.15', 'Date': 'Tue, 03 Jan 2023 20:48:07 GMT'}, 'raw': <urllib3.response.HTTPResponse object at 0x7ff3983eec40>, 'url': 'http://localhost:5000//measurement/', 'encoding': None, 'history': [], 'reason': 'CREATED', 'cookies': <RequestsCookieJar[]>, 'elapsed': datetime.timedelta(microseconds=89878), 'request': <PreparedRequest [POST]>, 'connection': <requests.adapters.HTTPAdapter object at 0x7ff3b85cf220>}\n",
      "{'_content': b'{\\n    \"status\": \"success\",\\n    \"message\": \"Successfully created.\"\\n}\\n', '_content_consumed': True, '_next': None, 'status_code': 201, 'headers': {'Content-Type': 'application/json', 'Content-Length': '68', 'Server': 'Werkzeug/0.15.5 Python/3.8.15', 'Date': 'Tue, 03 Jan 2023 20:48:07 GMT'}, 'raw': <urllib3.response.HTTPResponse object at 0x7ff3a81dfa30>, 'url': 'http://localhost:5000//measurement/', 'encoding': None, 'history': [], 'reason': 'CREATED', 'cookies': <RequestsCookieJar[]>, 'elapsed': datetime.timedelta(microseconds=39958), 'request': <PreparedRequest [POST]>, 'connection': <requests.adapters.HTTPAdapter object at 0x7ff3a81d5d00>}\n",
      "{'_content': b'{\\n    \"status\": \"success\",\\n    \"message\": \"Successfully created.\"\\n}\\n', '_content_consumed': True, '_next': None, 'status_code': 201, 'headers': {'Content-Type': 'application/json', 'Content-Length': '68', 'Server': 'Werkzeug/0.15.5 Python/3.8.15', 'Date': 'Tue, 03 Jan 2023 20:48:08 GMT'}, 'raw': <urllib3.response.HTTPResponse object at 0x7ff3a81d5430>, 'url': 'http://localhost:5000//measurement/', 'encoding': None, 'history': [], 'reason': 'CREATED', 'cookies': <RequestsCookieJar[]>, 'elapsed': datetime.timedelta(microseconds=41262), 'request': <PreparedRequest [POST]>, 'connection': <requests.adapters.HTTPAdapter object at 0x7ff3a81df6a0>}\n",
      "{'_content': b'{\\n    \"status\": \"success\",\\n    \"message\": \"Successfully created.\"\\n}\\n', '_content_consumed': True, '_next': None, 'status_code': 201, 'headers': {'Content-Type': 'application/json', 'Content-Length': '68', 'Server': 'Werkzeug/0.15.5 Python/3.8.15', 'Date': 'Tue, 03 Jan 2023 20:48:08 GMT'}, 'raw': <urllib3.response.HTTPResponse object at 0x7ff3b85cf2b0>, 'url': 'http://localhost:5000//measurement/', 'encoding': None, 'history': [], 'reason': 'CREATED', 'cookies': <RequestsCookieJar[]>, 'elapsed': datetime.timedelta(microseconds=39005), 'request': <PreparedRequest [POST]>, 'connection': <requests.adapters.HTTPAdapter object at 0x7ff3a81d5a30>}\n",
      "{'_content': b'{\\n    \"status\": \"success\",\\n    \"message\": \"Successfully created.\"\\n}\\n', '_content_consumed': True, '_next': None, 'status_code': 201, 'headers': {'Content-Type': 'application/json', 'Content-Length': '68', 'Server': 'Werkzeug/0.15.5 Python/3.8.15', 'Date': 'Tue, 03 Jan 2023 20:48:08 GMT'}, 'raw': <urllib3.response.HTTPResponse object at 0x7ff3b85cf4f0>, 'url': 'http://localhost:5000//measurement/', 'encoding': None, 'history': [], 'reason': 'CREATED', 'cookies': <RequestsCookieJar[]>, 'elapsed': datetime.timedelta(microseconds=37292), 'request': <PreparedRequest [POST]>, 'connection': <requests.adapters.HTTPAdapter object at 0x7ff3a81d52b0>}\n"
     ]
    },
    {
     "name": "stdout",
     "output_type": "stream",
     "text": [
      "{'_content': b'{\\n    \"status\": \"success\",\\n    \"message\": \"Successfully created.\"\\n}\\n', '_content_consumed': True, '_next': None, 'status_code': 201, 'headers': {'Content-Type': 'application/json', 'Content-Length': '68', 'Server': 'Werkzeug/0.15.5 Python/3.8.15', 'Date': 'Tue, 03 Jan 2023 20:48:08 GMT'}, 'raw': <urllib3.response.HTTPResponse object at 0x7ff3a81c2430>, 'url': 'http://localhost:5000//measurement/', 'encoding': None, 'history': [], 'reason': 'CREATED', 'cookies': <RequestsCookieJar[]>, 'elapsed': datetime.timedelta(microseconds=37943), 'request': <PreparedRequest [POST]>, 'connection': <requests.adapters.HTTPAdapter object at 0x7ff3b85cfa90>}\n",
      "{'_content': b'{\\n    \"status\": \"success\",\\n    \"message\": \"Successfully created.\"\\n}\\n', '_content_consumed': True, '_next': None, 'status_code': 201, 'headers': {'Content-Type': 'application/json', 'Content-Length': '68', 'Server': 'Werkzeug/0.15.5 Python/3.8.15', 'Date': 'Tue, 03 Jan 2023 20:48:08 GMT'}, 'raw': <urllib3.response.HTTPResponse object at 0x7ff338447d00>, 'url': 'http://localhost:5000//measurement/', 'encoding': None, 'history': [], 'reason': 'CREATED', 'cookies': <RequestsCookieJar[]>, 'elapsed': datetime.timedelta(microseconds=39953), 'request': <PreparedRequest [POST]>, 'connection': <requests.adapters.HTTPAdapter object at 0x7ff3a81c26d0>}\n",
      "{'_content': b'{\\n    \"status\": \"success\",\\n    \"message\": \"Successfully created.\"\\n}\\n', '_content_consumed': True, '_next': None, 'status_code': 201, 'headers': {'Content-Type': 'application/json', 'Content-Length': '68', 'Server': 'Werkzeug/0.15.5 Python/3.8.15', 'Date': 'Tue, 03 Jan 2023 20:48:08 GMT'}, 'raw': <urllib3.response.HTTPResponse object at 0x7ff3a81df9a0>, 'url': 'http://localhost:5000//measurement/', 'encoding': None, 'history': [], 'reason': 'CREATED', 'cookies': <RequestsCookieJar[]>, 'elapsed': datetime.timedelta(microseconds=39667), 'request': <PreparedRequest [POST]>, 'connection': <requests.adapters.HTTPAdapter object at 0x7ff338469f70>}\n",
      "{'_content': b'{\\n    \"status\": \"success\",\\n    \"message\": \"Successfully created.\"\\n}\\n', '_content_consumed': True, '_next': None, 'status_code': 201, 'headers': {'Content-Type': 'application/json', 'Content-Length': '68', 'Server': 'Werkzeug/0.15.5 Python/3.8.15', 'Date': 'Tue, 03 Jan 2023 20:48:08 GMT'}, 'raw': <urllib3.response.HTTPResponse object at 0x7ff39843c0a0>, 'url': 'http://localhost:5000//measurement/', 'encoding': None, 'history': [], 'reason': 'CREATED', 'cookies': <RequestsCookieJar[]>, 'elapsed': datetime.timedelta(microseconds=39458), 'request': <PreparedRequest [POST]>, 'connection': <requests.adapters.HTTPAdapter object at 0x7ff3a81df250>}\n",
      "{'_content': b'{\\n    \"status\": \"success\",\\n    \"message\": \"Successfully created.\"\\n}\\n', '_content_consumed': True, '_next': None, 'status_code': 201, 'headers': {'Content-Type': 'application/json', 'Content-Length': '68', 'Server': 'Werkzeug/0.15.5 Python/3.8.15', 'Date': 'Tue, 03 Jan 2023 20:48:08 GMT'}, 'raw': <urllib3.response.HTTPResponse object at 0x7ff3a81df0a0>, 'url': 'http://localhost:5000//measurement/', 'encoding': None, 'history': [], 'reason': 'CREATED', 'cookies': <RequestsCookieJar[]>, 'elapsed': datetime.timedelta(microseconds=41610), 'request': <PreparedRequest [POST]>, 'connection': <requests.adapters.HTTPAdapter object at 0x7ff39843c4f0>}\n",
      "{'_content': b'{\\n    \"status\": \"success\",\\n    \"message\": \"Successfully created.\"\\n}\\n', '_content_consumed': True, '_next': None, 'status_code': 201, 'headers': {'Content-Type': 'application/json', 'Content-Length': '68', 'Server': 'Werkzeug/0.15.5 Python/3.8.15', 'Date': 'Tue, 03 Jan 2023 20:48:08 GMT'}, 'raw': <urllib3.response.HTTPResponse object at 0x7ff338469e80>, 'url': 'http://localhost:5000//measurement/', 'encoding': None, 'history': [], 'reason': 'CREATED', 'cookies': <RequestsCookieJar[]>, 'elapsed': datetime.timedelta(microseconds=40610), 'request': <PreparedRequest [POST]>, 'connection': <requests.adapters.HTTPAdapter object at 0x7ff3a81dfb80>}\n",
      "{'_content': b'{\\n    \"status\": \"success\",\\n    \"message\": \"Successfully created.\"\\n}\\n', '_content_consumed': True, '_next': None, 'status_code': 201, 'headers': {'Content-Type': 'application/json', 'Content-Length': '68', 'Server': 'Werkzeug/0.15.5 Python/3.8.15', 'Date': 'Tue, 03 Jan 2023 20:48:08 GMT'}, 'raw': <urllib3.response.HTTPResponse object at 0x7ff3a81c2670>, 'url': 'http://localhost:5000//measurement/', 'encoding': None, 'history': [], 'reason': 'CREATED', 'cookies': <RequestsCookieJar[]>, 'elapsed': datetime.timedelta(microseconds=42102), 'request': <PreparedRequest [POST]>, 'connection': <requests.adapters.HTTPAdapter object at 0x7ff3a81c2610>}\n",
      "{'_content': b'{\\n    \"status\": \"success\",\\n    \"message\": \"Successfully created.\"\\n}\\n', '_content_consumed': True, '_next': None, 'status_code': 201, 'headers': {'Content-Type': 'application/json', 'Content-Length': '68', 'Server': 'Werkzeug/0.15.5 Python/3.8.15', 'Date': 'Tue, 03 Jan 2023 20:48:08 GMT'}, 'raw': <urllib3.response.HTTPResponse object at 0x7ff3b85cfbe0>, 'url': 'http://localhost:5000//measurement/', 'encoding': None, 'history': [], 'reason': 'CREATED', 'cookies': <RequestsCookieJar[]>, 'elapsed': datetime.timedelta(microseconds=40795), 'request': <PreparedRequest [POST]>, 'connection': <requests.adapters.HTTPAdapter object at 0x7ff338460c10>}\n",
      "{'_content': b'{\\n    \"status\": \"success\",\\n    \"message\": \"Successfully created.\"\\n}\\n', '_content_consumed': True, '_next': None, 'status_code': 201, 'headers': {'Content-Type': 'application/json', 'Content-Length': '68', 'Server': 'Werkzeug/0.15.5 Python/3.8.15', 'Date': 'Tue, 03 Jan 2023 20:48:08 GMT'}, 'raw': <urllib3.response.HTTPResponse object at 0x7ff3983eea30>, 'url': 'http://localhost:5000//measurement/', 'encoding': None, 'history': [], 'reason': 'CREATED', 'cookies': <RequestsCookieJar[]>, 'elapsed': datetime.timedelta(microseconds=41531), 'request': <PreparedRequest [POST]>, 'connection': <requests.adapters.HTTPAdapter object at 0x7ff3b85cf0d0>}\n"
     ]
    }
   ],
   "source": [
    "store_loop_measurements(100)"
   ]
  },
  {
   "cell_type": "markdown",
   "metadata": {},
   "source": [
    "## Get measurements aggregates"
   ]
  },
  {
   "cell_type": "code",
   "execution_count": 63,
   "metadata": {},
   "outputs": [
    {
     "name": "stdout",
     "output_type": "stream",
     "text": [
      "<Response [200]>\n",
      "{'end_time': '2022-12-01T05:01:01.301000+00:00',\n",
      " 'list_max_value': [15.5, 30.5, 45.5, 50.5],\n",
      " 'list_mean_value': [7.180555555555555, 23.25, 38.25, 48.25],\n",
      " 'list_min_value': [1.0, 16.0, 31.0, 46.0],\n",
      " 'list_time': ['2022-12-01T01:00:00',\n",
      "               '2022-12-01T02:00:00',\n",
      "               '2022-12-01T03:00:00',\n",
      "               '2022-12-01T04:00:00'],\n",
      " 'measurement_type_id': 11,\n",
      " 'sensor_id': 11,\n",
      " 'start_time': '2022-12-01T01:01:01.301000+00:00',\n",
      " 'time_split': '1h'}\n"
     ]
    }
   ],
   "source": [
    "#http://localhost:5000/measurement/aggregate?sensor_id=11&measurement_type_id=11&start_time=2022-12-01T01%3A01%3A01.301Z&end_time=2022-12-01T05%3A01%3A01.301Z&time_split=1h\n",
    "r = requests.get(f'{base_url}/measurement/aggregate'\\\n",
    "                '?sensor_id=11&measurement_type_id=11'\\\n",
    "                '&start_time=2022-12-01T01%3A01%3A01.301Z'\\\n",
    "                '&end_time=2022-12-01T05%3A01%3A01.301Z&time_split=1h')\n",
    "print(r)\n",
    "data = r.json()\n",
    "pp.pprint(data)\n"
   ]
  },
  {
   "cell_type": "code",
   "execution_count": null,
   "metadata": {},
   "outputs": [],
   "source": []
  }
 ],
 "metadata": {
  "kernelspec": {
   "display_name": "Python 3",
   "language": "python",
   "name": "python3"
  },
  "language_info": {
   "codemirror_mode": {
    "name": "ipython",
    "version": 3
   },
   "file_extension": ".py",
   "mimetype": "text/x-python",
   "name": "python",
   "nbconvert_exporter": "python",
   "pygments_lexer": "ipython3",
   "version": "3.8.3"
  }
 },
 "nbformat": 4,
 "nbformat_minor": 4
}
